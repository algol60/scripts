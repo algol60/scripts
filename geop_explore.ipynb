{
 "cells": [
  {
   "cell_type": "code",
   "execution_count": null,
   "id": "3e3ed268-14f3-4482-878e-5f5f5a1c7f14",
   "metadata": {},
   "outputs": [],
   "source": [
    "import pandas as pd\n",
    "import geopandas as gpd\n",
    "import math\n",
    "import h3\n",
    "import numpy as np\n",
    "import statistics\n",
    "import ipywidgets\n",
    "import html"
   ]
  },
  {
   "cell_type": "code",
   "execution_count": null,
   "id": "e3b5ace1-5308-42e6-b9c2-2e211d3d43e2",
   "metadata": {},
   "outputs": [],
   "source": [
    "lons = []\n",
    "lats = []\n",
    "names = []\n",
    "rs = []\n",
    "for i in range(0, 360, 10):\n",
    "    lon = 149 + math.cos(math.radians(i))\n",
    "    lat = -35 + math.sin(math.radians(i))\n",
    "    name = f'Name_{i%3}'\n",
    "    lons.append(lon)\n",
    "    lats.append(lat)\n",
    "    names.append(name)\n",
    "    rs.append(sum(lons))"
   ]
  },
  {
   "cell_type": "code",
   "execution_count": null,
   "id": "d20d16c6-e7ba-4cfd-a514-66a03717affb",
   "metadata": {},
   "outputs": [],
   "source": [
    "df = pd.DataFrame({'LON':lons, 'LAT':lats, 'NAME':names, 'R':rs})\n",
    "gdf = gpd.GeoDataFrame(df, geometry=gpd.points_from_xy(df.LON, df.LAT), crs='EPSG:4326')\n",
    "gdf"
   ]
  },
  {
   "cell_type": "code",
   "execution_count": null,
   "id": "e17c95a4-b959-4d36-a3cc-3ce76c80dc22",
   "metadata": {},
   "outputs": [],
   "source": [
    "# gdf.geom_type"
   ]
  },
  {
   "cell_type": "code",
   "execution_count": null,
   "id": "fe923d51-8564-43d9-9364-80bf63688f7c",
   "metadata": {},
   "outputs": [],
   "source": [
    "gdf.explore()#column='NAME')"
   ]
  },
  {
   "cell_type": "code",
   "execution_count": null,
   "id": "f3e881df-7072-4a4b-b13a-92378a47077d",
   "metadata": {},
   "outputs": [],
   "source": [
    "gdf.plot()"
   ]
  },
  {
   "cell_type": "code",
   "execution_count": null,
   "id": "ee0f4e8f-e826-45b2-8d51-23740e3fa48e",
   "metadata": {},
   "outputs": [],
   "source": [
    "cell = h3.latlng_to_cell(-35, 149, 4)\n",
    "h3.cell_to_boundary(cell)"
   ]
  },
  {
   "cell_type": "code",
   "execution_count": null,
   "id": "1fc66687-7e79-404b-9349-ab778c7b30c5",
   "metadata": {},
   "outputs": [],
   "source": [
    "cells = h3.grid_ring(cell, 1)\n",
    "cells"
   ]
  },
  {
   "cell_type": "code",
   "execution_count": null,
   "id": "4cfb7ac9-3f21-445a-aea0-274a0db42517",
   "metadata": {},
   "outputs": [],
   "source": [
    "boundaries = [h3.cell_to_boundary(cell) for cell in cells]\n",
    "boundaries"
   ]
  },
  {
   "cell_type": "code",
   "execution_count": null,
   "id": "916fa01d-3d31-4c6a-abd7-972629c618b5",
   "metadata": {},
   "outputs": [],
   "source": [
    "poly = h3.cells_to_h3shape(cells)"
   ]
  },
  {
   "cell_type": "code",
   "execution_count": null,
   "id": "4ded8559-5d06-453e-88d9-6cc1228ab775",
   "metadata": {},
   "outputs": [],
   "source": [
    "shapes = [h3.cells_to_h3shape([cell]) for cell in cells]"
   ]
  },
  {
   "cell_type": "code",
   "execution_count": null,
   "id": "eaa5e481-5761-4f7e-8968-dd012ed56640",
   "metadata": {},
   "outputs": [],
   "source": [
    "df_hex = gpd.GeoDataFrame({'A':list('abcdef'), 'NAME':[f'Name_{i}' for i in range(6)], 'geometry':shapes}, crs=4326)\n",
    "# df = df.to_crs(epsg=4326)\n",
    "print(df_hex.crs)\n",
    "print(df_hex.total_bounds)\n",
    "df_hex"
   ]
  },
  {
   "cell_type": "code",
   "execution_count": null,
   "id": "5b30c8b2-c64d-4e5b-9ada-4bc34c9e50d2",
   "metadata": {},
   "outputs": [],
   "source": [
    "df.explore(column='A')"
   ]
  },
  {
   "cell_type": "code",
   "execution_count": null,
   "id": "01b000f2-57fb-49f7-a774-91f17a4a4a27",
   "metadata": {},
   "outputs": [],
   "source": [
    "import ipyleaflet"
   ]
  },
  {
   "cell_type": "code",
   "execution_count": null,
   "id": "6f019e6c-31f3-42ae-b39d-f3182b41a853",
   "metadata": {},
   "outputs": [],
   "source": [
    "def debug(s):\n",
    "    with open('D:/tmp/l.log', 'a') as f:\n",
    "        print(s, file=f)\n",
    "\n",
    "def table(properties, fields):\n",
    "    lines = []\n",
    "    for k, v in properties.items():\n",
    "        if fields is None or k in fields:\n",
    "            lines.append(f'<tr><th style=\"text-align: left\">{html.escape(k)}</th><td>:{html.escape(str(v))}</td></tr>')\n",
    "\n",
    "    return '<table style=\"padding:0;\"><tbody>' + ''.join(lines) + '</tbody></table>'\n",
    "\n",
    "class Explore:\n",
    "    def __init__(self, df, lon_lat_cols):\n",
    "        if isinstance(df, gpd.GeoDataFrame):\n",
    "            if lon_lat_cols:\n",
    "                raise ValueError('Cannot specify lon_lat cols with a GeoDataFrame')\n",
    "\n",
    "            if not df.crs.equals(4326):\n",
    "                df = df.to_crs(4326)\n",
    "\n",
    "            self.gdf = df\n",
    "        else:\n",
    "            if len(lon_lat_cols)!=2:\n",
    "                raise ValueError('lon_lat_cols must be two column names')\n",
    "\n",
    "            lon, lat = lon_lat_cols\n",
    "            self.gdf = gpd.GeoDataFrame(df, geometry=gpd.points_from_xy(lon, lat), crs=4326)\n",
    "\n",
    "    def _fit(self, change):\n",
    "        \"\"\"Fit the map to the bounds after rendering.\n",
    "        \n",
    "        Map.fit_bounds() only works after the map has been rendered. Therefore, we observe\n",
    "        the bounds change when the map is rendered, then refit the bounds.\"\"\"\n",
    "        \n",
    "        self.m.unobserve(self._fit, 'bounds')\n",
    "        minx, miny, maxx, maxy = self.gdf.total_bounds\n",
    "        self.m.fit_bounds([[miny, minx], [maxy, maxx]])\n",
    "\n",
    "    def _hovering(self, feature, **kwargs):\n",
    "        t = table(feature['properties'], self.tooltip_fields)\n",
    "        self.htmlw.value = t\n",
    "            \n",
    "    def _clicking(self, *args, **kwargs):\n",
    "        debug(f'@CLICK {args=} {kwargs.keys()=} {kwargs=}')\n",
    "        coords = kwargs['coordinates']\n",
    "        feature = kwargs['feature']\n",
    "        self.popup.location = coords\n",
    "        # self.popup.child = ipywidgets.HTML('xyzzy ' + table(feature['properties'], self.popup_fields))\n",
    "        self.popup.child.value = 'xyzzy ' + table(feature['properties'], self.popup_fields)\n",
    "        self.popup.open_popup()\n",
    "            \n",
    "    def explore(self, *, point_style=None, hover_style=None, tooltip_fields=None, popup_fields=None):\n",
    "        if not point_style:\n",
    "            point_style = {}\n",
    "\n",
    "        for k, v in (('fillOpacity', 0.5), ('weight', 2), ('radius', 2)):\n",
    "            if k not in point_style:\n",
    "                point_style[k] = v\n",
    "\n",
    "        if not hover_style:\n",
    "            hover_style = {}\n",
    "\n",
    "        for k, v in (('fillOpacity', 0.75),):\n",
    "            if k not in hover_style:\n",
    "                hover_style[k] = v\n",
    "\n",
    "        self.tooltip_fields = tooltip_fields\n",
    "        self.popup_fields = popup_fields\n",
    "                \n",
    "        self.m = ipyleaflet.Map(scroll_wheel_zoom=True)\n",
    "        geo_data = ipyleaflet.GeoData(\n",
    "            geo_dataframe=self.gdf,\n",
    "            point_style=point_style,\n",
    "            hover_style=hover_style\n",
    "        )\n",
    "        geo_data.on_hover(self._hovering)\n",
    "        self.m.add(geo_data)\n",
    "\n",
    "        # debug(f'@@POPUP {popup_fields=}')\n",
    "        if self.popup_fields:\n",
    "            self.popup = ipyleaflet.Popup(location=(0,0), child=ipywidgets.HTML('popping'), auto_pan=False)\n",
    "            geo_data.popup = self.popup\n",
    "            geo_data.on_click(self._clicking)\n",
    "            self.m.add(self.popup)\n",
    "\n",
    "        # Always do on-hover tooltips.\n",
    "        # Note: Actual Leaflet tooltips are after ipyleaflet 0.20.0.\n",
    "        #\n",
    "        self.htmlw = ipywidgets.HTML('...')\n",
    "        control = ipyleaflet.WidgetControl(widget=self.htmlw, position='topright')\n",
    "        self.m.add(control)\n",
    "\n",
    "        # Cause a bounds fitting after rendering.\n",
    "        #\n",
    "        self.m.observe(self._fit, 'bounds')\n",
    "    \n",
    "        return self.m\n",
    "\n",
    "def explore(df, *, lon_lat_cols=None, point_style=None, tooltip_fields=None, popup_fields=None):\n",
    "    e = Explore(df, lon_lat_cols)\n",
    "    return e.explore(point_style=point_style, tooltip_fields=tooltip_fields, popup_fields=popup_fields)\n",
    "\n",
    "m = explore(gdf, tooltip_fields=['NAME', 'R'], popup_fields=['R', 'NAME'])\n",
    "m"
   ]
  },
  {
   "cell_type": "code",
   "execution_count": null,
   "id": "b487e1ee-e03d-4b0e-9a12-9c6efc514fcc",
   "metadata": {},
   "outputs": [],
   "source": []
  },
  {
   "cell_type": "code",
   "execution_count": null,
   "id": "0781c19b-aa8b-4e8a-8132-ff82116e0ec7",
   "metadata": {},
   "outputs": [],
   "source": []
  },
  {
   "cell_type": "code",
   "execution_count": null,
   "id": "b8893fc2-258d-4849-9cd7-769dcac2f183",
   "metadata": {},
   "outputs": [],
   "source": []
  },
  {
   "cell_type": "code",
   "execution_count": null,
   "id": "f13d4724-82c2-4d34-b2fa-b26b30db1c7f",
   "metadata": {},
   "outputs": [],
   "source": []
  },
  {
   "cell_type": "code",
   "execution_count": null,
   "id": "c7453a01-09c6-448a-b2d3-ae8f9c0de6f5",
   "metadata": {},
   "outputs": [],
   "source": [
    "explore(df_hex, popup_fields=['R', 'NAME'])"
   ]
  },
  {
   "cell_type": "code",
   "execution_count": null,
   "id": "83d24fd2-a2d4-4d7e-9541-4f29fffef02e",
   "metadata": {},
   "outputs": [],
   "source": [
    "df_hex.explore()"
   ]
  }
 ],
 "metadata": {
  "kernelspec": {
   "display_name": "Python 3 (ipykernel)",
   "language": "python",
   "name": "python3"
  },
  "language_info": {
   "codemirror_mode": {
    "name": "ipython",
    "version": 3
   },
   "file_extension": ".py",
   "mimetype": "text/x-python",
   "name": "python",
   "nbconvert_exporter": "python",
   "pygments_lexer": "ipython3",
   "version": "3.13.5"
  }
 },
 "nbformat": 4,
 "nbformat_minor": 5
}
